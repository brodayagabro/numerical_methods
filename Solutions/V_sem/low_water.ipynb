{
 "cells": [
  {
   "cell_type": "code",
   "execution_count": 1,
   "id": "5aea8892",
   "metadata": {},
   "outputs": [],
   "source": [
    "import matplotlib.pyplot as plt\n",
    "import numpy as np\n",
    "from scipy.integrate import odeint\n",
    "import scipy.integrate as integrate\n",
    "import warnings\n",
    "import sympy as smp\n",
    "from ipywidgets import interact"
   ]
  },
  {
   "cell_type": "code",
   "execution_count": 46,
   "id": "fb5ca2aa",
   "metadata": {},
   "outputs": [
    {
     "data": {
      "application/vnd.jupyter.widget-view+json": {
       "model_id": "26134c2e61b94db4be5f6969b93e8ff7",
       "version_major": 2,
       "version_minor": 0
      },
      "text/plain": [
       "interactive(children=(FloatSlider(value=0.0, description='param_tau', max=5.0, min=-5.0, step=0.01), Output())…"
      ]
     },
     "metadata": {},
     "output_type": "display_data"
    },
    {
     "data": {
      "text/plain": [
       "<function __main__.N(param_tau)>"
      ]
     },
     "execution_count": 46,
     "metadata": {},
     "output_type": "execute_result"
    }
   ],
   "source": [
    "def N(param_tau):\n",
    "    \n",
    "    eps, gamma, mu, tetta, c_0, tau_0 = 1, 1, 1, 1, 1, 1\n",
    "    \n",
    "    y, tau = smp.symbols('y tau')\n",
    "    funcN = eps * gamma * mu * smp.exp(smp.I * tetta) * ( (tau - tau_0) / mu - smp.I ) / (4 * y / mu - (c_0 * (tau - tau_0) / mu - smp.I) ** 2)**(3/2)\n",
    "    first_der_funcN_tau = funcN.diff(tau)\n",
    "    sec_der_funcN_tau   = first_der_funcN_tau.diff(tau)\n",
    "    first_der_funcN_y   = funcN.diff(y)\n",
    "    sec_der_funcN_y     = first_der_funcN_y.diff(y)\n",
    "        \n",
    "    lmbd_sec_funcN_tau = smp.lambdify((y, tau), sec_der_funcN_tau, \"numpy\")\n",
    "    lmbd_sec_funcN_y   = smp.lambdify((y, tau), sec_der_funcN_y  , \"numpy\")\n",
    "    lmbd_funcN         = smp.lambdify((y, tau), funcN, \"numpy\")\n",
    "    \n",
    "    arr_y = np.linspace(-100, 100, 10000)\n",
    "    \n",
    "    vals_sec_funcN_tau = lmbd_sec_funcN_tau(arr_y, param_tau)\n",
    "    vals_sec_funcN_y   = lmbd_sec_funcN_y(arr_y, param_tau)\n",
    "    vals_funcN = np.real(lmbd_funcN(arr_y, param_tau))\n",
    "    \n",
    "    R = np.real(vals_sec_funcN_tau - vals_sec_funcN_y)\n",
    "    \n",
    "    fig = plt.figure(figsize=(5, 5))\n",
    "    plt.grid()\n",
    "    plt.xlim([-1, 1])\n",
    "    plt.ylim([-5, 5])\n",
    "    plt.plot(arr_y, R, color=\"red\")\n",
    "    plt.plot(arr_y, vals_funcN, color=\"black\")\n",
    "    plt.show()\n",
    "    \n",
    "interact(N, param_tau=(-5, 5, 0.01))    "
   ]
  },
  {
   "cell_type": "code",
   "execution_count": 23,
   "id": "55528d38",
   "metadata": {},
   "outputs": [
    {
     "data": {
      "image/png": "[encoded data removed]",
      "text/plain": [
       "<Figure size 500x500 with 1 Axes>"
      ]
     },
     "metadata": {},
     "output_type": "display_data"
    }
   ],
   "source": [
    "def N(param_y, param_tau):\n",
    "    \n",
    "    eps, gamma, mu, tetta, c_0, tau_0 = 1, 1, 1, 1, 1, 1\n",
    "    \n",
    "    y, tau = smp.symbols('y tau')\n",
    "    funcN = eps * gamma * mu * smp.exp(smp.I * tetta) * ( (tau - tau_0) / mu - smp.I ) / (4 * y / mu - (c_0 * (tau - tau_0) / mu - smp.I) ** 2)**(3/2)\n",
    "    first_der_funcN_tau = funcN.diff(tau)\n",
    "    sec_der_funcN_tau   = first_der_funcN_tau.diff(tau)\n",
    "    first_der_funcN_y   = funcN.diff(y)\n",
    "    sec_der_funcN_y     = first_der_funcN_y.diff(y)\n",
    "        \n",
    "    lmbd_sec_funcN_tau = smp.lambdify((y, tau), sec_der_funcN_tau, \"numpy\")\n",
    "    lmbd_sec_funcN_y   = smp.lambdify((y, tau), sec_der_funcN_y  , \"numpy\")\n",
    "    \n",
    "    vals_sec_funcN_tau = lmbd_sec_funcN_tau(param_y, param_tau)\n",
    "    vals_sec_funcN_y   = lmbd_sec_funcN_y(param_y, param_tau)\n",
    "    \n",
    "    R = np.real(vals_sec_funcN_tau - vals_sec_funcN_y)\n",
    "    \n",
    "    fig = plt.figure(figsize=(5, 5))\n",
    "    plt.grid()\n",
    "    plt.xlim([0, 20])\n",
    "    plt.ylim([-2, 2])\n",
    "    plt.plot(param_y, R, color=\"red\")\n",
    "    plt.show()\n",
    "    \n",
    "p_y = np.linspace(0.1, 100, 10000)\n",
    "p_tau = np.linspace(0, 100, 10000)\n",
    "\n",
    "N(p_y, p_tau)"
   ]
  },
  {
   "cell_type": "code",
   "execution_count": null,
   "id": "f30c2219",
   "metadata": {},
   "outputs": [],
   "source": []
  }
 ],
 "metadata": {
  "kernelspec": {
   "display_name": "Python 3 (ipykernel)",
   "language": "python",
   "name": "python3"
  },
  "language_info": {
   "codemirror_mode": {
    "name": "ipython",
    "version": 3
   },
   "file_extension": ".py",
   "mimetype": "text/x-python",
   "name": "python",
   "nbconvert_exporter": "python",
   "pygments_lexer": "ipython3",
   "version": "3.8.8"
  }
 },
 "nbformat": 4,
 "nbformat_minor": 5
}
