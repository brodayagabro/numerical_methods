{
 "cells": [
  {
   "cell_type": "code",
   "execution_count": 2,
   "id": "6ddc92a9",
   "metadata": {},
   "outputs": [],
   "source": [
    "import matplotlib.pyplot as plt\n",
    "import numpy as np\n",
    "from scipy.integrate import odeint\n",
    "import scipy.integrate as integrate\n",
    "import warnings\n",
    "import sympy as smp\n",
    "from ipywidgets import interact\n",
    "\n",
    "#warnings.filterwarnings('ignore')"
   ]
  },
  {
   "cell_type": "markdown",
   "id": "14aec7f0",
   "metadata": {},
   "source": [
    "# Построим график для mu = 1, и для t из интервала [0, 10000]"
   ]
  },
  {
   "cell_type": "code",
   "execution_count": 3,
   "id": "a1f56ec3",
   "metadata": {},
   "outputs": [
    {
     "name": "stdout",
     "output_type": "stream",
     "text": [
      "0.0006989507812840273\n"
     ]
    },
    {
     "data": {
      "image/png": "[encoded data removed]",
      "text/plain": [
       "<Figure size 360x360 with 1 Axes>"
      ]
     },
     "metadata": {
      "needs_background": "light"
     },
     "output_type": "display_data"
    }
   ],
   "source": [
    "a   = 5\n",
    "c_0 = 1\n",
    "\n",
    "x, t, mu = smp.symbols('x t mu')\n",
    "\n",
    "#Functions\n",
    "c_x          = smp.sqrt(x)\n",
    "tau_x_plus   = 2 * ( smp.sqrt(x) - smp.sqrt(a) )\n",
    "tau_x_minus  = 2 * ( smp.sqrt(a) - smp.sqrt(x) )\n",
    "V_xt_plus    = smp.exp( (-1/2) * ( (c_0 / mu) * (tau_x_plus - t) )**2 )\n",
    "V_xt_minus   = smp.exp( (-1/2) * ( (c_0 / mu) * (tau_x_minus + t) )**2 )\n",
    "\n",
    "u_xt         = (1/2) * smp.sqrt(c_0 / c_x) * (V_xt_plus + V_xt_minus)\n",
    "\n",
    "first_der_u_t = u_xt.diff(t)\n",
    "sec_der_u_t   = first_der_u_t.diff(t)\n",
    "\n",
    "first_der_u_x = u_xt.diff(x)\n",
    "c2_x_ux_x     = (c_x**2) * first_der_u_x\n",
    "partial_op_c2x_x_uxx_x = c2_x_ux_x.diff(x)\n",
    "\n",
    "lmbd_sd_u_t = smp.lambdify((x, t, mu), sec_der_u_t, \"numpy\")\n",
    "lmbd_fd_u_x = smp.lambdify((x, t, mu), partial_op_c2x_x_uxx_x, \"numpy\")\n",
    "lmbd_u_xt   = smp.lambdify((x, t, mu), u_xt, \"numpy\")\n",
    "\n",
    "x_np_arr = np.linspace(0.1, 100, 10000)\n",
    "t_np_arr = np.linspace(0, 100, 10000)\n",
    "mu_val   = 1\n",
    "\n",
    "vals_sd_u_t = lmbd_sd_u_t(x_np_arr, t_np_arr, mu_val)\n",
    "vals_fd_u_x = lmbd_fd_u_x(x_np_arr, t_np_arr, mu_val)\n",
    "\n",
    "R_xmu = np.abs(vals_sd_u_t - vals_fd_u_x)\n",
    "print(np.max(R_xmu))\n",
    "fig = plt.figure(figsize=(5, 5))\n",
    "plt.grid()\n",
    "\n",
    "plt.plot(x_np_arr, R_xmu, label=r'$||$' + \"R(x, t, \" + r'$\\mu$' +  \")\" + r'$||$', color=\"red\")\n",
    "plt.plot(x_np_arr, vals_sd_u_t, label=r'$||\\frac{\\partial^{2} u(x, t)}{\\partial t^{2}}||$', color=\"black\")\n",
    "\n",
    "plt.xlim([-1, 10])\n",
    "\n",
    "plt.ylabel(r'$||$' + \"R(x, t, \" + r'$\\mu$' +  \")\" + r'$||$', fontsize = 20)\n",
    "plt.xlabel(\"x\", fontsize = 20)\n",
    "plt.legend(fontsize = 15)\n",
    "plt.show()    "
   ]
  },
  {
   "cell_type": "markdown",
   "id": "cff5dc52",
   "metadata": {},
   "source": [
    "# Варьируем параметр mu"
   ]
  },
  {
   "cell_type": "code",
   "execution_count": 4,
   "id": "1b1dbc67",
   "metadata": {},
   "outputs": [
    {
     "data": {
      "application/vnd.jupyter.widget-view+json": {
       "model_id": "f4899c1efcb846418e9e8683e71424ed",
       "version_major": 2,
       "version_minor": 0
      },
      "text/plain": [
       "interactive(children=(FloatSlider(value=1.0, description='param_mu', max=2.0, min=0.1), Output()), _dom_classe…"
      ]
     },
     "metadata": {},
     "output_type": "display_data"
    },
    {
     "data": {
      "text/plain": [
       "<function __main__.f_var_mu(param_mu)>"
      ]
     },
     "execution_count": 4,
     "metadata": {},
     "output_type": "execute_result"
    }
   ],
   "source": [
    "def f_var_mu(param_mu):\n",
    "    inter_x_np_arr = np.linspace(0.1, 100, 10000)\n",
    "    inter_t_np_arr = np.linspace(0, 100, 10000)\n",
    "    \n",
    "    vals_sd_u_t = lmbd_sd_u_t(inter_x_np_arr, inter_t_np_arr, param_mu)\n",
    "    vals_fd_u_x = lmbd_fd_u_x(inter_x_np_arr, inter_t_np_arr, param_mu)\n",
    "    \n",
    "    R_xmu = np.abs(vals_sd_u_t - vals_fd_u_x)\n",
    "    \n",
    "    fig = plt.figure(figsize=(5, 5))\n",
    "    plt.grid()\n",
    "\n",
    "    plt.plot(inter_x_np_arr, R_xmu, label=r'$||$' + \"R(x, t, \" + r'$\\mu$' +  \")\" + r'$||$', color=\"red\")\n",
    "    plt.plot(inter_x_np_arr, vals_sd_u_t, label=r'$||\\frac{\\partial^{2} u(x, t)}{\\partial t^{2}}||$', color=\"black\")\n",
    "\n",
    "    plt.xlim([-1, 10])\n",
    "\n",
    "    plt.ylabel(r'$||$' + \"R(x, t, \" + r'$\\mu$' +  \")\" + r'$||$', fontsize = 20)\n",
    "    plt.xlabel(\"x\", fontsize = 20)\n",
    "    plt.legend(fontsize = 15)\n",
    "    plt.show()\n",
    "    \n",
    "interact(f_var_mu, param_mu=(0.1, 2, 0.1))"
   ]
  },
  {
   "cell_type": "markdown",
   "id": "1a504303",
   "metadata": {},
   "source": [
    "# Варьируем mu, t"
   ]
  },
  {
   "cell_type": "code",
   "execution_count": 5,
   "id": "4cbaf6f5",
   "metadata": {},
   "outputs": [
    {
     "data": {
      "application/vnd.jupyter.widget-view+json": {
       "model_id": "0ad3fdc825b74ad0b8f33f1334481534",
       "version_major": 2,
       "version_minor": 0
      },
      "text/plain": [
       "interactive(children=(IntSlider(value=50, description='param_t'), FloatSlider(value=1.0, description='param_mu…"
      ]
     },
     "metadata": {},
     "output_type": "display_data"
    },
    {
     "data": {
      "text/plain": [
       "<function __main__.f_var_mu_t(param_t, param_mu)>"
      ]
     },
     "execution_count": 5,
     "metadata": {},
     "output_type": "execute_result"
    }
   ],
   "source": [
    "def f_var_mu_t(param_t, param_mu):\n",
    "    inter_x_np_arr = np.linspace(0.1, 100, 10000)\n",
    "    \n",
    "    vals_sd_u_t = lmbd_sd_u_t(inter_x_np_arr, param_t, param_mu)\n",
    "    vals_fd_u_x = lmbd_fd_u_x(inter_x_np_arr, param_t, param_mu)\n",
    "    \n",
    "    R_xmu = np.abs(vals_sd_u_t - vals_fd_u_x)\n",
    "    \n",
    "    fig = plt.figure(figsize=(5, 5))\n",
    "    plt.grid()\n",
    "\n",
    "    plt.plot(inter_x_np_arr, R_xmu, label=r'$||$' + \"R(x, t, \" + r'$\\mu$' +  \")\" + r'$||$', color=\"red\")\n",
    "    plt.plot(inter_x_np_arr, np.abs(vals_sd_u_t), label=r'$||\\frac{\\partial^{2} u(x, t)}{\\partial t^{2}}||$', color=\"black\")\n",
    "\n",
    "    plt.xlim([-1, 10])\n",
    "    plt.ylim([-2.5, 2.5])\n",
    "\n",
    "    plt.ylabel(r'$||$' + \"R(x, t, \" + r'$\\mu$' +  \")\" + r'$||$', fontsize = 20)\n",
    "    plt.xlabel(\"x\", fontsize = 20)\n",
    "    plt.legend(fontsize = 15)\n",
    "    plt.show()\n",
    "    \n",
    "interact(f_var_mu_t, param_t=(0, 100, 1), param_mu=(0.1, 2, 0.1))"
   ]
  },
  {
   "cell_type": "code",
   "execution_count": 7,
   "id": "5b18f1ee",
   "metadata": {},
   "outputs": [
    {
     "data": {
      "application/vnd.jupyter.widget-view+json": {
       "model_id": "713c2f2bbc6441f9bcf9f25238e48657",
       "version_major": 2,
       "version_minor": 0
      },
      "text/plain": [
       "interactive(children=(FloatSlider(value=2.0, description='param_t', max=5.0, step=0.2), FloatSlider(value=0.91…"
      ]
     },
     "metadata": {},
     "output_type": "display_data"
    },
    {
     "data": {
      "text/plain": [
       "<function __main__.prof_var_mu_t(param_t, param_mu)>"
      ]
     },
     "execution_count": 7,
     "metadata": {},
     "output_type": "execute_result"
    }
   ],
   "source": [
    "def prof_var_mu_t(param_t, param_mu):\n",
    "    inter_x_np_arr = np.linspace(-100, 100, 10000)\n",
    "    x_depth = np.linspace(-100, 100)\n",
    "    depth = []\n",
    "    \n",
    "    for i in x_depth:\n",
    "        depth.append(-i)\n",
    "    depth = np.array(depth)\n",
    "    \n",
    "    vals_sd_u_t = lmbd_sd_u_t(inter_x_np_arr, param_t, param_mu)\n",
    "    vals_fd_u_x = lmbd_fd_u_x(inter_x_np_arr, param_t, param_mu)\n",
    "    vals_u_xt   = lmbd_u_xt(inter_x_np_arr, param_t, param_mu)\n",
    "    \n",
    "    R_xmu = np.abs(vals_sd_u_t - vals_fd_u_x)\n",
    "    \n",
    "    fig = plt.figure(figsize=(10, 5))\n",
    "    plt.grid()\n",
    "    \n",
    "    plt.plot(inter_x_np_arr, R_xmu, label=r'$||$' + \"R(x, t, \" + r'$\\mu$' +  \")\" + r'$||$', color=\"red\")\n",
    "    plt.plot(inter_x_np_arr, vals_u_xt, label=r'$u(x, t)$')\n",
    "    plt.plot(x_depth, depth, label=r'$D(x)$')\n",
    "    \n",
    "    plt.xlim([-20,40])\n",
    "    plt.ylim([-2.5, 2.5])\n",
    "\n",
    "    plt.ylabel(r'$||$' + \"R(x, t, \" + r'$\\mu$' +  \")\" + r'$||$', fontsize = 20)\n",
    "    plt.xlabel(\"x\", fontsize = 20)\n",
    "    plt.legend(fontsize = 15)\n",
    "    plt.show()\n",
    "    \n",
    "interact(prof_var_mu_t, param_t=(0, 5, 0.2), param_mu=(0.01, 2, 0.1))"
   ]
  },
  {
   "cell_type": "code",
   "execution_count": null,
   "id": "af38840c",
   "metadata": {},
   "outputs": [],
   "source": []
  }
 ],
 "metadata": {
  "kernelspec": {
   "display_name": "Python 3",
   "language": "python",
   "name": "python3"
  },
  "language_info": {
   "codemirror_mode": {
    "name": "ipython",
    "version": 3
   },
   "file_extension": ".py",
   "mimetype": "text/x-python",
   "name": "python",
   "nbconvert_exporter": "python",
   "pygments_lexer": "ipython3",
   "version": "3.8.10"
  }
 },
 "nbformat": 4,
 "nbformat_minor": 5
}
