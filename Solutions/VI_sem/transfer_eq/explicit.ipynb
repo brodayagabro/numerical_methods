{
 "cells": [
  {
   "cell_type": "markdown",
   "id": "564476fc-a9af-450d-a228-d81b9c9a4619",
   "metadata": {},
   "source": [
    "# Решение уравнения переноса\n",
    "## Дифференциальная задача\n",
    "$$\\begin{cases}\n",
    "    u_t + e^{-x}u_x = \\sin(\\omega t),\\\\\n",
    "    u(x, 0) = exp[-(\\frac{x-0.2}{0.01})^2],\\\\\n",
    "    u(0, t) = 0.5*\\sin(5t).\\\\\n",
    "    x \\in [0, 1], t \\in [0, 1]\n",
    "\\end{cases}$$\n",
    "\n",
    "## Разностная задача(Явная схема)\n",
    "Воспользуемся схемой (|_)\n",
    "\n",
    "$$\n",
    "\\frac{u^{k+1}_n - u^{k}_n}{\\tau} + e^{-hn}\\frac{u^k_n-u^k_{n-1}}{h} = \\sin(\\omega k\\tau ),\n",
    "$$\n",
    "\n",
    "$$\n",
    "u^0_n = 1-e^{-nh}, n = 1..N\n",
    "$$\n",
    "\n",
    "$$\n",
    "u^k_0 = k\\tau, k = 0..K-1\n",
    "$$\n",
    "\n",
    "С учетом краевых и начальных условий решение записывается в виде:\n",
    "$$\n",
    "u_n^{k+1} = u_n^k - \\frac{\\tau \\cdot c(hn)}{h}(u^k_n-u^k_{n-1}) + \\tau\\sin(\\omega k\\tau )\n",
    "$$"
   ]
  },
  {
   "cell_type": "code",
   "execution_count": 16,
   "id": "9f26232e-9307-4afd-9ba6-0181919c6223",
   "metadata": {},
   "outputs": [
    {
     "data": {
      "application/vnd.jupyter.widget-view+json": {
       "model_id": "b5276e24447647cdbf6253bdc3a25cc2",
       "version_major": 2,
       "version_minor": 0
      },
      "text/plain": [
       "interactive(children=(IntSlider(value=550, description='N', max=1000, min=100), IntSlider(value=5500, descript…"
      ]
     },
     "metadata": {},
     "output_type": "display_data"
    },
    {
     "data": {
      "text/plain": [
       "<function __main__.var(N, K, t)>"
      ]
     },
     "execution_count": 16,
     "metadata": {},
     "output_type": "execute_result"
    }
   ],
   "source": [
    "### Пояснялки в комментариях\n",
    "from matplotlib import pyplot as plt\n",
    "### Пишешь не в jupyter - комментируй эту строку\n",
    "%config InlineBackend.figure_formats = ['svg']\n",
    "### Эту тоже\n",
    "from ipywidgets import interact\n",
    "### Это самая важная в мире библиотека без нее никуда\n",
    "import numpy as np\n",
    "\n",
    "# Тут задаем начальное условие\n",
    "def ux0(x):\n",
    "    return np.exp(-(x-0.2)**2/0.01)\n",
    "\n",
    "# Тут задаем краевое условие при x = 0\n",
    "def u0t(t):\n",
    "    return np.zeros(len(t))#1*np.sin(2*t)\n",
    "    \n",
    "# Неоднородная часть\n",
    "def f(x, t):\n",
    "    omega = 5\n",
    "    return 0.1*np.sin(omega*t)*np.cos(x)\n",
    "\n",
    "# Зависимость скорости от координаты\n",
    "def c(x):\n",
    "    return 1.1 - np.exp(-x**2/25)#1/(1+np.exp(x))\n",
    "\n",
    "# Тут все решается))\n",
    "def solve_explicit(N, K, Tmax, Xmax):\n",
    "    # Вычисляем наши шаги, по факте они практически не нужны\n",
    "    tau = Tmax/K; h = Xmax/N;\n",
    "    # Тут запишем чего мы ждем - матрицу K*N\n",
    "    U = np.zeros((K, N))\n",
    "    # Заданим массив из Х от 0 до 1 из N точек, шаг эта штука считает сама\n",
    "    X = np.linspace(0, Xmax, N)\n",
    "    # Зададим массив из T\n",
    "    T = np.linspace(0, Tmax, K)\n",
    "    # Тут учтем кравевые условия\n",
    "    U[0, :] = ux0(X)\n",
    "    U[:, 0] = u0t(T)\n",
    "    # Погнали решать разностную задача для неявлной схемы(в шапке все написано)\n",
    "    for k in range(0, K-1):\n",
    "        # Производная по х вычислена сразу для всего временного слоя U[k, 1:] - U[k, :-1] вот этой штукой\n",
    "        # Очконул, что написано в квадратных скобках? - ботай срезы списков\n",
    "        U[k+1, 1:] = (f(X[1:], tau*k) - c(X[1:])*(U[k, 1:] - U[k, :-1])/h)*tau + U[k, 1:]\n",
    "        # Вернем все, что нам надо\n",
    "    return (X, T, U)\n",
    "    \n",
    "# Если не юзаешь юпитер, то просто вызывай эту функцию с разными параметрами и радуйся жизни\n",
    "# N - частота дискретизации X\n",
    "# К - частота дискретизации T\n",
    "# T max - maксимальное время\n",
    "# t - момент времени, в который хотим нарисовать график\n",
    "def var(N, K, t):\n",
    "    X, T, sol_exp = solve_explicit(N, K, Tmax, Xmax)\n",
    "    n = int(t*K/Tmax)%K\n",
    "    plt.figure(figsize=(10, 4))\n",
    "    # В заголовке написан коэффицент на который написана устойчивость\n",
    "    plt.title(rf\"$\\tau*c(x)/h$={N*c(0.5)/K}\")\n",
    "    plt.plot(X, sol_exp[n], label=f\"u(x, {t})\")\n",
    "    plt.plot(X, c(X), label=\"c(x)\")\n",
    "    plt.legend()\n",
    "    plt.show()\n",
    "    return None\n",
    "# Зададим максимальное время\n",
    "Tmax = 50\n",
    "Xmax=10\n",
    "# Пример использования var\n",
    "# Var(100, 500, 5.5)\n",
    "\n",
    "### Не знаешь, что это - комментируй и используй var\n",
    "#var(300, 200, 2)\n",
    "interact(var, N=(100, 1000), K=(1000, 10000), t=(0, Tmax, 0.01))"
   ]
  },
  {
   "cell_type": "code",
   "execution_count": 13,
   "id": "44a63c08-501a-42c3-8c02-f2f09d6a9820",
   "metadata": {},
   "outputs": [
    {
     "data": {
      "application/vnd.jupyter.widget-view+json": {
       "model_id": "aaf412d6b3534b4783fce52e81cc76bf",
       "version_major": 2,
       "version_minor": 0
      },
      "text/plain": [
       "interactive(children=(FloatSlider(value=5.0, description='t', max=10.0, step=0.01), Output()), _dom_classes=('…"
      ]
     },
     "metadata": {},
     "output_type": "display_data"
    },
    {
     "data": {
      "text/plain": [
       "<function __main__.var_tot(t)>"
      ]
     },
     "execution_count": 13,
     "metadata": {},
     "output_type": "execute_result"
    }
   ],
   "source": [
    "# точное решение однородного уравнения с аналогичными начальными условиями и с=х**2\n",
    "# Тут задаем начальное условие\n",
    "def ux0(x):\n",
    "    return np.exp(-(x-0.2)**2/0.01)#1 - np.exp(-x)\n",
    "\n",
    "# Тут задаем краевое условие при x = 0\n",
    "def u0t(t):\n",
    "    return 0\n",
    "    \n",
    "# Неоднородная часть\n",
    "def f(x, t):\n",
    "    omega = 10\n",
    "    return 0#np.sin(omega*t)*x\n",
    "\n",
    "# Зависимость скорости от координаты\n",
    "def c(x):\n",
    "    return x**2#*np.ones(len(x))#np.exp(-x)\n",
    "    \n",
    "def u_exact(x, t):\n",
    "    return np.exp(-1/(0.1)**2*((x-0.2*(1+x*t))/(1+x*t))**2)\n",
    "\n",
    "def var_tot(t):\n",
    "    N = 1000\n",
    "    K = 10000\n",
    "    X, T, sol = solve_explicit(N, K, Tmax, Xmax)\n",
    "    n = int(t*K/Tmax)%K\n",
    "    plt.figure(figsize=(10, 4))\n",
    "    # В заголовке написан коэффицент на который написана устойчивость\n",
    "    plt.title(rf\"$\\Delta u$ = {np.max(abs(sol[n] - u_exact(X, t)))}\")\n",
    "    plt.plot(X, sol[n], label=r\"$u(x, t)$\")\n",
    "    plt.plot(X, u_exact(X, t), label=r\"$u_{exact}(x, t)$\")\n",
    "    plt.plot(X, c(X), label=\"c(x)\")\n",
    "    plt.legend()\n",
    "    plt.show()\n",
    "    plt.plot(X, abs(sol[n]-u_exact(X, t)))\n",
    "    plt.show()\n",
    "    return None\n",
    "Tmax = 10\n",
    "Xmax = 1\n",
    "interact(var_tot, t=(0, Tmax, 0.01))\n",
    "# Делаем вывод, что код написан правильно)"
   ]
  },
  {
   "cell_type": "code",
   "execution_count": null,
   "id": "55e6f480-c014-4d98-a24a-0eb71294037e",
   "metadata": {},
   "outputs": [],
   "source": []
  }
 ],
 "metadata": {
  "kernelspec": {
   "display_name": "Python 3",
   "language": "python",
   "name": "python3"
  },
  "language_info": {
   "codemirror_mode": {
    "name": "ipython",
    "version": 3
   },
   "file_extension": ".py",
   "mimetype": "text/x-python",
   "name": "python",
   "nbconvert_exporter": "python",
   "pygments_lexer": "ipython3",
   "version": "3.8.10"
  }
 },
 "nbformat": 4,
 "nbformat_minor": 5
}
