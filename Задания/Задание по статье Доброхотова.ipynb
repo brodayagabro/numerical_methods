{
 "cells": [
  {
   "cell_type": "markdown",
   "id": "88fda72e-d19e-4f49-8926-58f7c1a148e3",
   "metadata": {},
   "source": [
    "# Asymptotics of Localized Solutions of the One-Dimensional Wave Equation with Variable Velocity\n",
    "\n",
    "#### Equestions\n",
    "$\\begin{cases} \n",
    "    \\mu^2u_{tt}(x, t) + \\mu^2\\frac{\\partial}{\\partial x} c(x) \\frac{\\partial}{\\partial x} u(x, t) = 0\\\\\n",
    "    u_{t=0} = V(\\frac{x}{\\mu} - \\frac{a}{\\mu}) \\\\\n",
    "    u_{t, t=0} = 0\n",
    "\\end{cases}$\n",
    "\n",
    "#### Characteristics\n",
    "$\\begin{cases}\n",
    "    \\dot{x} = \\pm c(x) \\\\\n",
    "    x_{t=0} = a\n",
    "\\end{cases}$\n",
    "\n",
    "#### Theorem\n",
    "$\n",
    "\\textbf{1. }\n",
    "    u(x, t) = \\frac{1}{2}\\Sigma_{\\pm}{\\sqrt{\\frac{c_0}{c(X^{\\pm}(t))}}\n",
    "        V(\\frac{c_0 \\cdot (x-X^{\\pm}(t)}{c(X^{\\pm}(t))\\cdot\\mu}} + O(\\mu|log\\mu|)\n",
    "$\n",
    "\n",
    "$\n",
    "\\textbf{2. }\n",
    "    u(x,t) = \\frac{1}{2}\\Sigma_{\\pm}\\sqrt{\\frac{c_0}{c(x)}} \n",
    "    V(\\frac{c_0(T^{\\pm}(x)\\mp t)}{\\mu}) + O(\\mu|log\\mu|)\n",
    "$\n",
    "\n",
    "$    T^{\\pm}(X(t, a)) = \\pm\\int\\limits_a^{X^{\\pm}(t, a)}\\frac{dx}{c(x)}$\n",
    "\n",
    "## Issue\n",
    "задания по статье:\n",
    "1) Для одной из формул посчитать невязку аналитически и численно(подставлением формулы в волновое уравнение)\n",
    "2) Запрогать обе формулы и сравнить разность решений с невязкой\n"
   ]
  }
 ],
 "metadata": {
  "kernelspec": {
   "display_name": "Python 3",
   "language": "python",
   "name": "python3"
  },
  "language_info": {
   "codemirror_mode": {
    "name": "ipython",
    "version": 3
   },
   "file_extension": ".py",
   "mimetype": "text/x-python",
   "name": "python",
   "nbconvert_exporter": "python",
   "pygments_lexer": "ipython3",
   "version": "3.8.10"
  }
 },
 "nbformat": 4,
 "nbformat_minor": 5
}
