{
 "cells": [
  {
   "cell_type": "code",
   "execution_count": 10,
   "id": "762462d2-d66c-44d5-85d9-b44b52a7aa57",
   "metadata": {},
   "outputs": [],
   "source": [
    "### Пояснялки в комментариях\n",
    "from matplotlib import pyplot as plt\n",
    "### Пишешь не в jupyter - комментируй эту строку\n",
    "%config InlineBackend.figure_formats = ['svg']\n",
    "### Эту тоже\n",
    "from ipywidgets import interact\n",
    "### Это самая важная в мире библиотека без нее никуда\n",
    "import numpy as np\n",
    "import scipy as sp\n",
    "from pylab import *\n",
    "from IPython.display import clear_output, HTML, display, Image"
   ]
  },
  {
   "cell_type": "code",
   "execution_count": 11,
   "id": "df02c39e-f7e5-463e-a24c-94b4e56fed83",
   "metadata": {},
   "outputs": [
    {
     "name": "stdout",
     "output_type": "stream",
     "text": [
      "0.043000000000000003\n"
     ]
    }
   ],
   "source": [
    "# Задание параметров\n",
    "Lx = Ly = 1.0; Lz=0.1;\n",
    "T = 0.1\n",
    "Nx = 50\n",
    "Ny = 50\n",
    "Nz = 50\n",
    "Nt = 100\n",
    "dx = Lx / Nx\n",
    "dy = Ly / Ny\n",
    "dz = Lz / Nz\n",
    "dt = T / Nt\n",
    "print(dx+dy+dt+dz)\n",
    "Dxx = 1/dx**2; Dyy = 1/dy**2; Dzz=1/dz**2;\n",
    "X = np.linspace(0, Lx, Nx);\n",
    "Y = np.linspace(0, Ly, Ny);\n",
    "Z = np.linspace(0, Lz, Nz);\n",
    "Tset = np.linspace(0, T, Nt);\n",
    "a = 0.05"
   ]
  },
  {
   "cell_type": "code",
   "execution_count": 12,
   "id": "f735c6ba-0ecd-42f5-9c9c-956904410106",
   "metadata": {},
   "outputs": [],
   "source": [
    "# Инициализация начальных условий\n",
    "# Sorce of heat\n",
    "def f(x, y, z, t):\n",
    "    if (np.abs(x)>0.7 and np.abs(y)>0.7 and np.abs(z)<0.3): \n",
    "        return 5+t\n",
    "    return 0\n",
    "\n",
    "def F(TT, dx, dy, dz):\n",
    "    F_vals = np.zeros((Nt, Nx, Ny, Nz))\n",
    "    for i in range (1, Nx - 1):\n",
    "        for j in range(1, Ny-1):\n",
    "            for k in range(1, Nz-1):\n",
    "                xi = i*dx; yj = j*dy; zk = k*dz\n",
    "                F_vals[:, i, j, k] = f(xi, yj, zk, Tset)\n",
    "\n",
    "    return F_vals\n",
    "F_vals = F(Tset, dx, dy, dz)\n",
    "# Initial conditions\n",
    "u0 = np.zeros((Nx, Ny, Nz))\n",
    "for i in range(1, Nx-1):\n",
    "    for j in range(1, Ny-1):\n",
    "        u0[i, j, 0:-20] = np.exp(-((X[i]-0.3)**2 + (Y[j]-0.3)**2)/0.1)"
   ]
  },
  {
   "cell_type": "code",
   "execution_count": 59,
   "id": "e391638d-58f0-4e0d-8bc0-dfc3a8753950",
   "metadata": {},
   "outputs": [],
   "source": [
    "# Создание интерактивного интерфейса\n",
    "def displayZT(n, k, X, Y, U, ax):\n",
    "    #n = int(round(n/100*Nz, 0))\n",
    "    if n>Nz-1:\n",
    "        n = Nz-1\n",
    "    #k = int(round(k/100*Nt, 0))\n",
    "    if k>Nt-1:\n",
    "        k = Nt-1\n",
    "    cp1=ax.contourf(X,Y,U[k, :, :, n],10,cmap='PuOr')\n",
    "    #plt.colorbar(cp1)\n",
    "    cp1=ax.contour(X,Y,U[k, :, :, n],10,colors='k')\n",
    "    plt.clabel(cp1,inline=True, fontsize=10)"
   ]
  },
  {
   "cell_type": "code",
   "execution_count": 19,
   "id": "d2678b37-6eb6-4644-a0e3-92759aa7938e",
   "metadata": {},
   "outputs": [],
   "source": [
    "# Explicit\n",
    "# Функция, реализующая явную разностную схему для уравнения теплопроводности\n",
    "def solve_layer_exp(u, a, f, dt, dx, dy, dz):\n",
    "    unew = u.copy()\n",
    "    Nx, Ny, Nz = u.shape\n",
    "    for k in range(1, Nz - 1):\n",
    "        for j in range(1, Ny - 1):\n",
    "            for i in range(1, Nx - 1):\n",
    "                unew[i, j, k] = u[i, j, k] + dt * (\n",
    "                    a * (\n",
    "                        (u[i+1, j, k] - 2*u[i, j, k] + u[i-1, j, k]) * Dxx + \n",
    "                        (u[i, j+1, k] - 2*u[i, j, k] + u[i, j-1, k]) * Dyy + \n",
    "                        (u[i, j, k+1] - 2*u[i, j, k] + u[i, j, k-1]) * Dyy\n",
    "                    ) + f[i, j, k]\n",
    "                )\n",
    "\n",
    "    # Update Newman conditions\n",
    "    unew[0, :, :] = unew[1, :, :];\n",
    "    unew[-1, :, :] = unew[-2, :, :];\n",
    "    unew[:, 0, :] = unew[:, 1, :];\n",
    "    unew[:, -1, :] = unew[:, -2, :];\n",
    "    unew[:, :, 0] = unew[:, :, 1];\n",
    "    unew[:, :, -1] = unew[:, :, -2];\n",
    "    return unew\n",
    "\n",
    "def solve_exp():\n",
    "    U = np.zeros((Nt, Nx, Ny, Nz))\n",
    "    #U[:, 0, :, :] = U[:, -1, :, :] = U[:, :, 0, :] = U[:, :, -1, :] = U[:, :, :, 0] = U[:, :, :, -1]\n",
    "    u = np.copy(u0)\n",
    "    U[0] = u0\n",
    "    for n in range(1, Nt):\n",
    "        clear_output(wait = True)\n",
    "        print(f'Progress: {round(n/(Nt), 2)*100}%')  \n",
    "        u = solve_layer_exp(u, a, F_vals[n], dt, dx, dy, dz)\n",
    "        U[n] = u\n",
    "    return U"
   ]
  },
  {
   "cell_type": "code",
   "execution_count": 45,
   "id": "3b28568f-d563-4874-80c1-0fafbb088e52",
   "metadata": {},
   "outputs": [],
   "source": [
    "# Implicit\n",
    "\n",
    "def matrix(a, b):\n",
    "    N = len(X)\n",
    "    main_diag = np.eye(N)\n",
    "    help_diag = np.eye(N-1)\n",
    "    main_diag = main_diag*b\n",
    "    help_diag = -help_diag*a\n",
    "    main_diag[1:, :-1] += help_diag\n",
    "    main_diag[:-1, 1:] += help_diag\n",
    "    main_diag[0, 0] = 1\n",
    "    main_diag[0, 1] = -1\n",
    "    main_diag[-1, -1] = -1\n",
    "    main_diag[-1, -2] = 1\n",
    "    return main_diag\n",
    "\n",
    "def solve_layer_imp(u0, nt, f):\n",
    "    u1_3 = np.zeros((Nx, Ny, Nz)) \n",
    "    # layer X\n",
    "    an = a*dt/(1*dx**2)\n",
    "    bn = 1 + 2*a*dt*Dxx/(1)\n",
    "    Ax = matrix(an, bn)\n",
    "    #print(A)\n",
    "    Bx = np.zeros(Nx)\n",
    "    for k in range(Nz):\n",
    "        for j in range(Ny): \n",
    "            Bx[0] = Bx[-1] = 0\n",
    "            Bx[1:-1] = u0[1:-1, j, k] + dt*f[nt, 1:-1, j, k]/3\n",
    "            u1_3[:, j, k] = sp.linalg.solve(Ax, Bx)\n",
    "    #layer Y\n",
    "    u2_3 = np.zeros((Nx, Ny, Nz)) \n",
    "    an = a*dt/(1*dy**2)\n",
    "    bn = 1 + 2*a*dt*Dyy/(1)\n",
    "    Ay = matrix(an, bn)\n",
    "    By = np.zeros(Ny)\n",
    "    for k in range(Nz):\n",
    "        for i in range(Nx):\n",
    "            By[0] = By[-1] = 0\n",
    "            By[1:-1] = u1_3[i, 1:-1, k] + dt*f[nt, i, 1:-1, k]/3\n",
    "            u2_3[i, :, k] = sp.linalg.solve(Ay, By)\n",
    "\n",
    "    #layer Z\n",
    "    u = np.zeros((Nx, Ny, Nz)) \n",
    "    an = a*dt*Dzz/(1)\n",
    "    bn = 1 + 2*a*dt/(1*dz**2)\n",
    "    Az = matrix(an, bn)\n",
    "    Bz = np.zeros(Nz)\n",
    "    for j in range(Ny):\n",
    "        for i in range(Nx):\n",
    "            By[0] = By[-1] = 0\n",
    "            By[1:-1] = u2_3[i, j, 1:-1] + dt*f[nt, i, j, 1:-1]/3\n",
    "            u[i, j, :] = sp.linalg.solve(Ay, By)    \n",
    "    return u\n",
    "\n",
    "def solve_imp(u0, f):\n",
    "    U = np.zeros((Nt, Nx, Ny, Nz))\n",
    "    U[0] = u0\n",
    "    for n in range(1, Nt):\n",
    "        clear_output(wait = True)\n",
    "        print(f'Progress: {round(n/(Nt), 2)*100}%') \n",
    "        U[n] = solve_layer_imp(U[n-1], n, F_vals)\n",
    "    return U"
   ]
  },
  {
   "cell_type": "code",
   "execution_count": 42,
   "id": "5f8ed969-68d4-4b23-874c-159cfbac9678",
   "metadata": {},
   "outputs": [
    {
     "name": "stdout",
     "output_type": "stream",
     "text": [
      "Progress: 99.0%\n"
     ]
    }
   ],
   "source": [
    "U_exp = solve_exp()"
   ]
  },
  {
   "cell_type": "code",
   "execution_count": 46,
   "id": "f596edf8-ab33-48d6-a3a2-70e6d44a4304",
   "metadata": {},
   "outputs": [
    {
     "name": "stdout",
     "output_type": "stream",
     "text": [
      "Progress: 99.0%\n"
     ]
    }
   ],
   "source": [
    "U_imp = solve_imp(u0, F_vals)"
   ]
  },
  {
   "cell_type": "code",
   "execution_count": 47,
   "id": "d73ce2e5-3425-4f22-a74d-fc61eac05125",
   "metadata": {},
   "outputs": [
    {
     "data": {
      "application/vnd.jupyter.widget-view+json": {
       "model_id": "8b51a9b3ab5c4eff907984e1a3bffd2b",
       "version_major": 2,
       "version_minor": 0
      },
      "text/plain": [
       "interactive(children=(IntSlider(value=25, description='n', max=50), IntSlider(value=50, description='k'), Outp…"
      ]
     },
     "metadata": {},
     "output_type": "display_data"
    },
    {
     "data": {
      "text/plain": [
       "<function __main__.var(n, k)>"
      ]
     },
     "execution_count": 47,
     "metadata": {},
     "output_type": "execute_result"
    }
   ],
   "source": [
    "def var(n, k):\n",
    "    fig, (ax, ay) = plt.subplots(1, 2, figsize=(10, 6))\n",
    "    ax.set_title(\"explicit\")\n",
    "    ay.set_title(\"implicit\")\n",
    "    fig.suptitle(f\"t={Nt*(k/Nt)*dt}\\nz={Nz*(n/Nz)*dz}\")\n",
    "    displayZT(n, k, X, Y, U_exp, ax)\n",
    "    displayZT(n, k, X, Y, U_imp, ay)\n",
    "    show()\n",
    "interact(var, n=(0, Nz, 1), k=(0, Nt, 1))"
   ]
  },
  {
   "cell_type": "code",
   "execution_count": 60,
   "id": "b4466441-3c7e-49e7-9ad8-fca5b78c52f8",
   "metadata": {},
   "outputs": [
    {
     "data": {
      "application/vnd.jupyter.widget-view+json": {
       "model_id": "29faccb686b849eda9bc27399b351a1d",
       "version_major": 2,
       "version_minor": 0
      },
      "text/plain": [
       "interactive(children=(IntSlider(value=25, description='n', max=50), IntSlider(value=50, description='k'), Outp…"
      ]
     },
     "metadata": {},
     "output_type": "display_data"
    },
    {
     "data": {
      "text/plain": [
       "<function __main__.var(n, k)>"
      ]
     },
     "execution_count": 60,
     "metadata": {},
     "output_type": "execute_result"
    }
   ],
   "source": [
    "DU = np.abs(U_imp-U_exp)\n",
    "def var(n, k):\n",
    "    fig, ax = plt.subplots(figsize=(10, 6))\n",
    "    fig.suptitle(r\"$|U_{exp}-U_{imp}|$\")\n",
    "    fig.suptitle(r\"$|\\delta U|$\"+f\"(t={Nt*(k/Nt)*dt}, z={Nz*(n/Nz)*dz})\")\n",
    "    displayZT(n, k, X, Y, DU, ax)\n",
    "    show()\n",
    "interact(var, n=(0, Nz, 1), k=(0, Nt, 1))"
   ]
  },
  {
   "cell_type": "code",
   "execution_count": null,
   "id": "996975d7-4d28-436d-89fe-938f9944719e",
   "metadata": {},
   "outputs": [],
   "source": []
  }
 ],
 "metadata": {
  "kernelspec": {
   "display_name": "Python 3",
   "language": "python",
   "name": "python3"
  },
  "language_info": {
   "codemirror_mode": {
    "name": "ipython",
    "version": 3
   },
   "file_extension": ".py",
   "mimetype": "text/x-python",
   "name": "python",
   "nbconvert_exporter": "python",
   "pygments_lexer": "ipython3",
   "version": "3.8.10"
  }
 },
 "nbformat": 4,
 "nbformat_minor": 5
}
