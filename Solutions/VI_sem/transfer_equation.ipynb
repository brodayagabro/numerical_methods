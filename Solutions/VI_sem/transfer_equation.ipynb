{
 "cells": [
  {
   "cell_type": "markdown",
   "id": "564476fc-a9af-450d-a228-d81b9c9a4619",
   "metadata": {},
   "source": [
    "# Решение уравнения переноса\n",
    "## Дифференциальная задача\n",
    "$$\\begin{cases}\n",
    "    u_t + e^{-x}u_x = \\sin(\\omega t),\\\\\n",
    "    u(x, 0) = 1-e^{-x},\\\\\n",
    "    u(0, t) = t.\\\\\n",
    "    x \\in [0, 1], t \\in [0, 1]\n",
    "\\end{cases}$$\n",
    "\n",
    "## Разностная задача\n",
    "$$\n",
    "\\frac{u^{k+1}_n - u^{k}_n}{\\tau} + e^{-hn}\\frac{u^k_n-u^k_{n-1}}{n} = \\sin(\\omega k\\tau ),\n",
    "$$\n",
    "\n",
    "$$\n",
    "u^0_n = 1-e^{-nh}, n = 1..N\n",
    "$$\n",
    "\n",
    "$$\n",
    "u^k_0 = k\\tau, k = 0..K-1\n",
    "$$"
   ]
  },
  {
   "cell_type": "code",
   "execution_count": 97,
   "id": "9f26232e-9307-4afd-9ba6-0181919c6223",
   "metadata": {},
   "outputs": [
    {
     "name": "stdout",
     "output_type": "stream",
     "text": [
      "0.001 0.001\n"
     ]
    },
    {
     "data": {
      "text/plain": [
       "[<matplotlib.lines.Line2D at 0x7f142e972940>]"
      ]
     },
     "execution_count": 97,
     "metadata": {},
     "output_type": "execute_result"
    },
    {
     "data": {
      "image/png": "[encoded data removed]",
      "text/plain": [
       "<Figure size 432x288 with 1 Axes>"
      ]
     },
     "metadata": {
      "needs_background": "light"
     },
     "output_type": "display_data"
    }
   ],
   "source": [
    "from matplotlib import pyplot as plt\n",
    "import numpy as np\n",
    "import scipy as sp\n",
    "\n",
    "def ux0(x):\n",
    "    return np.exp(-(x-0.1)**2/0.1)#1 - np.exp(-x)\n",
    "\n",
    "def u0t(t):\n",
    "    return t\n",
    "\n",
    "def f(x, t):\n",
    "    omega = 1\n",
    "    return np.sin(omega*t)*x\n",
    "\n",
    "def c(x, t):\n",
    "    return np.exp(-x)\n",
    "\n",
    "def solve_explicit(N, K):\n",
    "    tau = 1/N; h = 1/K;\n",
    "    print(tau, h)\n",
    "    U = np.zeros((K, N))\n",
    "    X = np.linspace(0, 1, N)\n",
    "    T = np.linspace(0, 1, K)\n",
    "    #print(U[0, :])\n",
    "    U[0, :] = ux0(X)\n",
    "    U[:, 0] = u0t(T)\n",
    "    #print(U)\n",
    "    for k in range(0, K-1):\n",
    "        #print(f(X[1:], tau*(k)))\n",
    "        U[k+1, 1:] = (f(X[1:], tau*(k)) - c(X[1:], tau*(k))*(U[k, 1:] - U[k, :-1])/h)*tau + U[k, 1:]    \n",
    "    return (X, T, U)\n",
    "    \n",
    "X, T, sol_exp = solve_explicit(1000, 1000)\n",
    "plt.plot(X, sol_exp[500])"
   ]
  },
  {
   "cell_type": "code",
   "execution_count": null,
   "id": "44a63c08-501a-42c3-8c02-f2f09d6a9820",
   "metadata": {},
   "outputs": [],
   "source": []
  }
 ],
 "metadata": {
  "kernelspec": {
   "display_name": "Python 3",
   "language": "python",
   "name": "python3"
  },
  "language_info": {
   "codemirror_mode": {
    "name": "ipython",
    "version": 3
   },
   "file_extension": ".py",
   "mimetype": "text/x-python",
   "name": "python",
   "nbconvert_exporter": "python",
   "pygments_lexer": "ipython3",
   "version": "3.8.10"
  }
 },
 "nbformat": 4,
 "nbformat_minor": 5
}
