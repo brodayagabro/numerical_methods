{
 "cells": [
  {
   "cell_type": "markdown",
   "id": "c3e37560-d725-4c3a-bfb0-34f7d6389d89",
   "metadata": {},
   "source": [
    "# Решение СЛАУ при помощи инструментов numpy,scipy "
   ]
  },
  {
   "cell_type": "code",
   "execution_count": 10,
   "id": "9d058934-cc0e-4d49-adc4-923dffb5f520",
   "metadata": {},
   "outputs": [],
   "source": [
    "import numpy as np\n",
    "import scipy as sp\n",
    "import time\n",
    "# Накидаем декоратор для определения времени выполнения программы\n",
    "def timer(func):\n",
    "    def wrapper(*args, **kwargs):\n",
    "        # start the timer\n",
    "        start_time = time.time()\n",
    "        # call the decorated function\n",
    "        result = func(*args, **kwargs)\n",
    "        # remeasure the time\n",
    "        end_time = time.time()\n",
    "        # compute the elapsed time and print it\n",
    "        execution_time = end_time - start_time\n",
    "        print(f\"Execution time: {execution_time} seconds\")\n",
    "        # return the result of the decorated function execution\n",
    "        return result\n",
    "    # return reference to the wrapper function\n",
    "    return wrapper"
   ]
  },
  {
   "cell_type": "markdown",
   "id": "f29792d8-ffbf-4d53-9afd-a728bd3ba636",
   "metadata": {},
   "source": [
    "создадим матрицу и воспользуемся встроенными модулями linalg\n",
    "решим СЛАУ:\n",
    "$$\n",
    "\\begin{cases}\n",
    "3x_1 + 2x_2=12,\\\\\n",
    "2x_1 - 3x_2 = 1.\n",
    "\\end{cases}\n",
    "$$\n",
    "\n",
    "1) Запишем в матричном виде\n",
    "   $$\n",
    "   \\begin{pmatrix}\n",
    "   3 & 2\\\\\n",
    "   2 & -3\n",
    "   \\end{pmatrix}\n",
    "   \\times \\begin{pmatrix} \n",
    "   x_1 \\\\ x_2\n",
    "   \\end{pmatrix}\n",
    "   = \\begin{pmatrix} 12 \\\\ 1 \\end{pmatrix}\n",
    "   $$"
   ]
  },
  {
   "cell_type": "code",
   "execution_count": 17,
   "id": "2ce7abb8-cecf-4bb9-9480-792667ab9ab7",
   "metadata": {},
   "outputs": [],
   "source": [
    "# Matrix of SLE \n",
    "A = np.array([\n",
    "    [3, 2],\n",
    "    [2, -3],\n",
    "])\n",
    "# vector of rigth part\n",
    "b = np.array([12, 1]).reshape(2, 1)"
   ]
  },
  {
   "cell_type": "code",
   "execution_count": 18,
   "id": "323cea8b-32e3-49ff-8bfd-539a63b75f3a",
   "metadata": {},
   "outputs": [],
   "source": [
    "# definitions decorated functions\n",
    "@timer\n",
    "def spsolve(A, b):\n",
    "    return sp.linalg.solve(A, b)\n",
    "\n",
    "@timer\n",
    "def npsolve(A, b):\n",
    "    return np.linalg.solve(A, b)"
   ]
  },
  {
   "cell_type": "code",
   "execution_count": 20,
   "id": "2210c502-ae8c-4e82-99ab-fc91335341af",
   "metadata": {},
   "outputs": [
    {
     "name": "stdout",
     "output_type": "stream",
     "text": [
      "[[2.92307692]\n",
      " [1.61538462]]\n",
      "[[2.92307692]\n",
      " [1.61538462]]\n"
     ]
    }
   ],
   "source": [
    "# Запустим просто\n",
    "x = sp.linalg.solve(A, b)\n",
    "print(x)\n",
    "x = np.linalg.solve(A, b)\n",
    "print(x)"
   ]
  },
  {
   "cell_type": "code",
   "execution_count": 21,
   "id": "4d503344-7fb6-40a8-b767-52fe3464c2c1",
   "metadata": {},
   "outputs": [
    {
     "name": "stdout",
     "output_type": "stream",
     "text": [
      "Execution time: 0.0005075931549072266 seconds\n",
      "[[2.92307692]\n",
      " [1.61538462]]\n",
      "Execution time: 9.942054748535156e-05 seconds\n",
      "[[2.92307692]\n",
      " [1.61538462]]\n"
     ]
    }
   ],
   "source": [
    "# Запустим с подсчетом времени выполнения\n",
    "print(spsolve(A, b))\n",
    "print(npsolve(A, b))"
   ]
  },
  {
   "cell_type": "markdown",
   "id": "a93483d7-bd78-40d2-8d32-d3e023d89f50",
   "metadata": {},
   "source": [
    "## Решение системы с разреженными матрицами\n",
    "2) Построим разреженную матрицу __$A$__. В уранении переноса возникает двухдиагональная матрица вида:\n",
    "   $$\n",
    "    \\begin{bmatrix}\n",
    "    1 & 0 & 0 & 0 \\\\\n",
    "    -b^{n}_1 & a^{n}_1 & 0 & 0 \\\\\n",
    "    0 & -b^{n}_2 & a^{n}_2 & 0 \\\\\n",
    "    0 & 0 & -b^{n}_3 & a^{n}_3 \\\\\n",
    "    \\end{bmatrix}\n",
    "   $$\n",
    "   Решение уравнения:\n",
    "   $$\n",
    "    \\begin{bmatrix}\n",
    "    1 & 0 & 0 & 0 \\\\\n",
    "    -b^{n}_1 & a^{n}_1 & 0 & 0 \\\\\n",
    "    0 & -b^{n}_2 & a^{n}_2 & 0 \\\\\n",
    "    0 & 0 & -b^{n}_3 & a^{n}_3 \\\\\n",
    "    \\end{bmatrix}\n",
    "    \\times\n",
    "    \\begin{bmatrix} u^{n+1}_0 \\\\ u^{n+1}_1 \\\\ u^{n+1}_2 \\\\ u^{n+1}_3 \\end{bmatrix}\n",
    "    = \\begin{bmatrix} u^1(t^{n+1}) \\\\ \\xi^{n}_1 \\\\ \\xi^{n}_2 \\\\ \\xi^{n}_3 \\end{bmatrix}\n",
    "   $$\n",
    "   Можно найти с использованием:\n",
    "   * предложенных выше функций\n",
    "   * самописного метода прогонки"
   ]
  },
  {
   "cell_type": "code",
   "execution_count": 24,
   "id": "f55b67a1-3038-495f-956c-e333675ab775",
   "metadata": {},
   "outputs": [
    {
     "name": "stdout",
     "output_type": "stream",
     "text": [
      "[[ 1  0  0  0]\n",
      " [-1  2  0  0]\n",
      " [ 0 -1  2  0]\n",
      " [ 0  0 -1  2]]\n",
      "[[1]\n",
      " [2]\n",
      " [3]\n",
      " [4]]\n"
     ]
    }
   ],
   "source": [
    "# Зададим матрицу системы\n",
    "A = np.array([\n",
    "    [1, 0, 0, 0],\n",
    "    [-1, 2, 0, 0],\n",
    "    [0, -1, 2, 0],\n",
    "    [0, 0, -1, 2]\n",
    "])\n",
    "# vector of rigth part\n",
    "b = np.array([1, 2, 3, 4]).reshape(4, 1)\n",
    "print(A)\n",
    "print(b)"
   ]
  },
  {
   "cell_type": "code",
   "execution_count": 25,
   "id": "020250dd-2c4c-4ff0-afe3-f6413d721a32",
   "metadata": {},
   "outputs": [
    {
     "name": "stdout",
     "output_type": "stream",
     "text": [
      "Execution time: 0.0006818771362304688 seconds\n",
      "[[1.   ]\n",
      " [1.5  ]\n",
      " [2.25 ]\n",
      " [3.125]]\n",
      "Execution time: 0.00011491775512695312 seconds\n",
      "[[1.   ]\n",
      " [1.5  ]\n",
      " [2.25 ]\n",
      " [3.125]]\n"
     ]
    }
   ],
   "source": [
    "# Воспользуемся описанными методами в модулях numpy, scipy\n",
    "print(spsolve(A, b))\n",
    "print(npsolve(A, b))"
   ]
  },
  {
   "cell_type": "markdown",
   "id": "badd7888-dabd-48b5-bdff-18f6ab2ee881",
   "metadata": {},
   "source": [
    "## Метод прогонки для двудиагональной матрицы\n",
    "   $$\n",
    "    \\begin{bmatrix}\n",
    "    1 & 0 & 0 & 0 \\\\\n",
    "    -b^{n}_1 & a^{n}_1 & 0 & 0 \\\\\n",
    "    \\vdots & \\cdots &  \\cdots & \\vdots\\\\\n",
    "    0 & -b^{n}_2 & a^{n}_2 & 0 \\\\\n",
    "    0 & 0 & -b^{n}_m & a^{n}_m \\\\\n",
    "    \\end{bmatrix}\n",
    "    \\times\n",
    "    \\begin{bmatrix} u^{n+1}_0 \\\\ u^{n+1}_1 \\\\ \\vdots \\\\ u^{n+1}_{m-1} \\\\ u^{n+1}_m \\end{bmatrix}\n",
    "    = \\begin{bmatrix} u^1(t^{n+1}) \\\\ \\xi^{n}_1 \\\\ \\vdots \\\\ \\xi^{n}_{m-1} \\\\ \\xi^{n}_m \\end{bmatrix}\n",
    "   $$\n",
    "\n",
    "   $$\n",
    "   u^{n+1}_k = \\frac{b^n_ku^{n+1}_{k-1} + \\xi^{n}_{k}}{a^n_{k}}, k = 1..m\n",
    "   $$"
   ]
  },
  {
   "cell_type": "code",
   "execution_count": 28,
   "id": "5198dd32-3c57-41e8-b7e5-d4615c72cf71",
   "metadata": {},
   "outputs": [
    {
     "name": "stdout",
     "output_type": "stream",
     "text": [
      "Execution time: 0.0002143383026123047 seconds\n",
      "[1.    1.5   2.25  3.125]\n"
     ]
    }
   ],
   "source": [
    "# Напишем реализацию метода прогонки для двухдиагональной матрицы\n",
    "@timer\n",
    "def mysolve(A, b):\n",
    "    m = len(b)\n",
    "    U = np.zeros(m)\n",
    "    U[0] = A[0, 0]\n",
    "    for k in range(1, m):\n",
    "        b_k = -A[k, k-1]\n",
    "        a_k = A[k, k]\n",
    "        xi_k = b[k]\n",
    "        U[k] = (b_k*U[k-1]+xi_k)/a_k\n",
    "    return U\n",
    "\n",
    "print(mysolve(A, b))"
   ]
  },
  {
   "cell_type": "code",
   "execution_count": null,
   "id": "7326d7c9-85eb-4b6c-b5fc-8fbd4cc184ec",
   "metadata": {},
   "outputs": [],
   "source": []
  }
 ],
 "metadata": {
  "kernelspec": {
   "display_name": "Python 3",
   "language": "python",
   "name": "python3"
  },
  "language_info": {
   "codemirror_mode": {
    "name": "ipython",
    "version": 3
   },
   "file_extension": ".py",
   "mimetype": "text/x-python",
   "name": "python",
   "nbconvert_exporter": "python",
   "pygments_lexer": "ipython3",
   "version": "3.8.10"
  }
 },
 "nbformat": 4,
 "nbformat_minor": 5
}
