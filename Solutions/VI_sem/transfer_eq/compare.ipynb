{
 "cells": [
  {
   "cell_type": "markdown",
   "id": "2311dd61-22e6-449d-b9e1-a1dca69153b7",
   "metadata": {},
   "source": [
    "# Сравнение аппроксимации задачи явной и неявной схемой"
   ]
  },
  {
   "cell_type": "code",
   "execution_count": 4,
   "id": "4d886081-99cc-46fa-a28b-7f8d7f427b7e",
   "metadata": {},
   "outputs": [],
   "source": [
    "### Пояснялки в комментариях\n",
    "from matplotlib import pyplot as plt\n",
    "### Пишешь не в jupyter - комментируй эту строку\n",
    "%config InlineBackend.figure_formats = ['svg']\n",
    "### Эту тоже\n",
    "from ipywidgets import interact\n",
    "### Это самая важная в мире библиотека без нее никуда\n",
    "import numpy as np\n",
    "import scipy as sp"
   ]
  },
  {
   "cell_type": "code",
   "execution_count": 8,
   "id": "1434bbc3-f379-469f-837f-8891a4bc56f4",
   "metadata": {},
   "outputs": [],
   "source": [
    "# Реализация метода прогонки для двудиагональной матрицы\n",
    "def mysolve(A, b):\n",
    "    m = len(b)\n",
    "    U = np.zeros(m)\n",
    "    U[0] = b[0]\n",
    "    for k in range(1, m):\n",
    "        b_k = -A[k, k-1]\n",
    "        a_k = A[k, k]\n",
    "        xi_k = b[k]\n",
    "        U[k] = (b_k*U[k-1]+xi_k)/a_k\n",
    "    return U\n",
    "# Решение задачи Неявной схемой\n",
    "def solve_implicit(N, K, Tmax, Xmax):\n",
    "    # На каждом шаге будем составлять матрицу описанного вида\n",
    "    # Затем получать решения для описанных методов в предыдущем блоке\n",
    "    # Вычисляем наши шаги, по факту они практически не нужны\n",
    "    tau = Tmax/K; h = Xmax/N;\n",
    "    \n",
    "    # Тут запишем чего мы ждем - матрицу K*N\n",
    "    U = np.zeros((K, N))\n",
    "    \n",
    "    # Заданим массив из Х от 0 до 1 из N точек, шаг эта штука считает сама\n",
    "    X = np.linspace(0, Xmax, N)\n",
    "    # Зададим массив из T\n",
    "    T = np.linspace(0, Tmax, K)\n",
    "    \n",
    "    # Тут учтем кравевые условия\n",
    "    U[0, :] = ux0(X)\n",
    "    U[:, 0] = u0t(T)\n",
    "    \n",
    "    # initiate SLE matrix\n",
    "    A = np.zeros((N, N))\n",
    "    \n",
    "    # initiate SLE b\n",
    "    b_my = np.zeros(N)\n",
    "\n",
    "    # coner matrix elem\n",
    "    A[0, 0] = 1\n",
    "    for k in range(0, K-1):\n",
    "        # Зададим элменты на диагонали матрицы\n",
    "        # Для этого срежем из матрицы первую строку и первый столбец\n",
    "        A[1:, 1:][np.diag_indices_from(A[1:, 1:])] = 1+c(X[1:])*tau/h\n",
    "        \n",
    "        # Зададим элменты на побочной диагонали\n",
    "        # Для этого срежем из матрицы первую строку и последний столбец\n",
    "        # Побочная диагональ переедет на главнуюю\n",
    "        A[1:, :-1][np.diag_indices_from(A[1:, :-1])] = -(c(X[1:])*tau/h)\n",
    "        \n",
    "        # Сотавим вектор правой части\n",
    "        b_my[0] = U[k+1, 0]\n",
    "        b_my[1:] = U[k, 1:] + tau*f(X[1:], tau*k)\n",
    "        \n",
    "        # Решаем СЛУ для нахождения k+1 слоя\n",
    "        U[k+1] = mysolve(A, b_my)\n",
    "    return X, T, U\n",
    "\n",
    "# Решение явной схемой\n",
    "def solve_explicit(N, K, Tmax, Xmax):\n",
    "    # Вычисляем наши шаги, по факте они практически не нужны\n",
    "    tau = Tmax/K; h = Xmax/N;\n",
    "    # Тут запишем чего мы ждем - матрицу K*N\n",
    "    U = np.zeros((K, N))\n",
    "    # Заданим массив из Х от 0 до 1 из N точек, шаг эта штука считает сама\n",
    "    X = np.linspace(0, Xmax, N)\n",
    "    # Зададим массив из T\n",
    "    T = np.linspace(0, Tmax, K)\n",
    "    # Тут учтем кравевые условия\n",
    "    U[0, :] = ux0(X)\n",
    "    U[:, 0] = u0t(T)\n",
    "    # Погнали решать разностную задача для неявлной схемы\n",
    "    for k in range(0, K-1):\n",
    "        # Производная по х вычислена сразу для всего временного слоя U[k, 1:] - U[k, :-1] вот этой штукой\n",
    "        # Очконул, что написано в квадратных скобках? - ботай срезы списков\n",
    "        U[k+1, 1:] = (f(X[1:], tau*(k)) - c(X[1:])*(U[k, 1:] - U[k, :-1])/h)*tau + U[k, 1:]\n",
    "        # Вернем все, что нам надо\n",
    "    return (X, T, U)"
   ]
  },
  {
   "cell_type": "markdown",
   "id": "d93b3e84-8058-4c44-824c-04e39bb06fba",
   "metadata": {},
   "source": [
    "опредедим константы в задаче"
   ]
  },
  {
   "cell_type": "code",
   "execution_count": 45,
   "id": "f15291f9-36fa-4a1a-b7b8-ec003f8b059e",
   "metadata": {},
   "outputs": [],
   "source": [
    "# Тут задаем начальное условие\n",
    "def ux0(x):\n",
    "    return np.exp(-(x-0.2)**2/0.25)\n",
    "\n",
    "# Тут задаем краевое условие при x = 0\n",
    "def u0t(t):\n",
    "    return 0.1*np.sin(2*t)\n",
    "    \n",
    "# Неоднородная часть\n",
    "def f(x, t):\n",
    "    omega = 5\n",
    "    return 0.1*np.sin(omega*t)*np.cos(x)\n",
    "\n",
    "# Зависимость скорости от координаты\n",
    "def c(x):\n",
    "    return 1.1 - 0.8*np.exp(-x**2/25)#1/(1+np.exp(x))"
   ]
  },
  {
   "cell_type": "markdown",
   "id": "06c8bc42-d595-4250-a955-482e463407e4",
   "metadata": {},
   "source": [
    "рисовалка"
   ]
  },
  {
   "cell_type": "code",
   "execution_count": 46,
   "id": "79756907-8124-42e0-8fd9-0e499786c074",
   "metadata": {},
   "outputs": [],
   "source": [
    "# Решаем уравнение обоими методами\n",
    "K = 10000\n",
    "N = 1000\n",
    "Tmax = 50\n",
    "Xmax = 80\n",
    "X, T, sol_imp = solve_implicit(N, K, Tmax, Xmax)\n",
    "X, T, sol_exp = solve_explicit(N, K, Tmax, Xmax)\n",
    "H = -np.sqrt(c(X)) # Интересный факт: скорость волны пропорциональна корню из глубины"
   ]
  },
  {
   "cell_type": "code",
   "execution_count": 44,
   "id": "1a53a931-4e5e-4f5b-8a91-14c97b376fdb",
   "metadata": {},
   "outputs": [
    {
     "data": {
      "application/vnd.jupyter.widget-view+json": {
       "model_id": "bee2cffc15974ed1bebb15daa0f8cf46",
       "version_major": 2,
       "version_minor": 0
      },
      "text/plain": [
       "interactive(children=(FloatSlider(value=25.0, description='t', max=50.0), Output()), _dom_classes=('widget-int…"
      ]
     },
     "metadata": {},
     "output_type": "display_data"
    },
    {
     "data": {
      "text/plain": [
       "<function __main__.var(t)>"
      ]
     },
     "execution_count": 44,
     "metadata": {},
     "output_type": "execute_result"
    }
   ],
   "source": [
    "# Функция строит оба решения в момент времени t профиль дна бассейна, разность решений\n",
    "def var(t):\n",
    "    n = int(t*K/Tmax)%K\n",
    "    fig = plt.figure(figsize=(12, 4))\n",
    "    fig.suptitle(rf\"$\\tau$={Tmax/K}, $h$ = {Xmax/N}\")\n",
    "    # В заголовке написан коэффицент на который написана устойчивость\n",
    "    plt.subplot(121)\n",
    "    plt.plot(X, sol_exp[n], label=f\"explict\")\n",
    "    plt.plot(X, sol_imp[n], label=f\"implict\")\n",
    "    plt.plot(X, H, color=\"black\", label=r\"$H(x)$\")\n",
    "    plt.legend()\n",
    "    plt.subplot(122)\n",
    "    plt.plot(X, sol_exp[n]-sol_imp[n])\n",
    "    plt.title(r\"$\\Delta u$\")\n",
    "    plt.show()\n",
    "    return None \n",
    "interact(var, t=(0, Tmax, 0.1))"
   ]
  },
  {
   "cell_type": "code",
   "execution_count": null,
   "id": "0cf10551-18f5-4dbc-b742-3426d9a36035",
   "metadata": {},
   "outputs": [],
   "source": []
  }
 ],
 "metadata": {
  "kernelspec": {
   "display_name": "Python 3",
   "language": "python",
   "name": "python3"
  },
  "language_info": {
   "codemirror_mode": {
    "name": "ipython",
    "version": 3
   },
   "file_extension": ".py",
   "mimetype": "text/x-python",
   "name": "python",
   "nbconvert_exporter": "python",
   "pygments_lexer": "ipython3",
   "version": "3.8.10"
  }
 },
 "nbformat": 4,
 "nbformat_minor": 5
}
